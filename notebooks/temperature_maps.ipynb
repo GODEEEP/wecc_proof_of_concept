{
 "cells": [
  {
   "cell_type": "markdown",
   "id": "dd40f4f4-5a80-40b7-94b3-aed136daa9d8",
   "metadata": {},
   "source": [
    "# WECC Temperature Maps for Heat Wave Study"
   ]
  },
  {
   "cell_type": "code",
   "execution_count": null,
   "id": "27e597e9-538f-41d4-afa9-a268b10ab1df",
   "metadata": {},
   "outputs": [],
   "source": [
    "# Start by importing the packages we need:\n",
    "import os\n",
    "\n",
    "import pandas as pd\n",
    "import geopandas as gpd\n",
    "import matplotlib.pyplot as plt\n",
    "\n",
    "from mpl_toolkits.axes_grid1 import make_axes_locatable\n"
   ]
  },
  {
   "cell_type": "markdown",
   "id": "795f6fe5-0769-4298-887e-7c4cffc64a0d",
   "metadata": {},
   "source": [
    "## Set the Directory Structure"
   ]
  },
  {
   "cell_type": "code",
   "execution_count": null,
   "id": "bd887600-32da-46dc-b411-fa63c75f564f",
   "metadata": {
    "pycharm": {
     "name": "#%%\n"
    }
   },
   "outputs": [],
   "source": [
    "# Identify the data input and output directories:\n",
    "data_input_dir =  '/Users/burl878/Documents/Code/code_repos/wecc_proof_of_concept/data/temperature_maps/'\n",
    "metadata_input_dir =  '/Users/burl878/Documents/IMMM/Data/Random/ERCOT_Heat_Wave_Cold_Snap_Figure//'\n",
    "image_output_dir =  '/Users/burl878/Documents/Code/code_repos/wecc_proof_of_concept/plots/'\n"
   ]
  },
  {
   "cell_type": "markdown",
   "id": "57cd3773-85ff-4425-9ee0-b4fc627e0d77",
   "metadata": {},
   "source": [
    "## Set the Plot Constraints"
   ]
  },
  {
   "cell_type": "code",
   "execution_count": null,
   "id": "84ba3db3-59d6-46cf-9a21-9fa76c0a738a",
   "metadata": {},
   "outputs": [],
   "source": [
    "# Set the lat/lon bounds for the plot:\n",
    "lat_min = 24\n",
    "lat_max = 49.75\n",
    "lon_min = -125.5\n",
    "lon_max = -66.5\n",
    "\n",
    "# Set the minimum and maximum temperatures for the colorbar:\n",
    "heat_t_min = 60\n",
    "heat_t_max = 110\n",
    "\n",
    "# Set the projection/CRS you want to use (e.g., https://en.wikipedia.org/wiki/Spatial_reference_system):\n",
    "projection = \"EPSG:4269\"\n"
   ]
  },
  {
   "cell_type": "markdown",
   "id": "9967d0a6-1e81-4337-964a-1b2edd22355b",
   "metadata": {},
   "source": [
    "## Read in the Shapefiles"
   ]
  },
  {
   "cell_type": "code",
   "execution_count": null,
   "id": "37cf89a0-c3d9-46ad-ad9b-06562598cc23",
   "metadata": {},
   "outputs": [],
   "source": [
    "# Read in the county shapefile and reassign the 'FIPS' variable as integers:\n",
    "counties_df = gpd.read_file(os.path.join(metadata_input_dir, r'County_Shapefiles', r'tl_2020_us_county.shp')).rename(columns={'GEOID': 'FIPS'})\n",
    "counties_df['FIPS'] = counties_df['FIPS'].astype(int)\n",
    "\n",
    "# Read in the state shapefile:\n",
    "states_df = gpd.read_file(os.path.join(metadata_input_dir, r'State_Shapefiles', r'tl_2020_us_state.shp'))\n",
    "\n",
    "# Change the CRS to match the projection you want to use:\n",
    "counties_df = counties_df.to_crs(projection)\n",
    "states_df = states_df.to_crs(projection)\n"
   ]
  },
  {
   "cell_type": "markdown",
   "id": "afedcfd4-7a50-42aa-8479-8474ecbb85cf",
   "metadata": {},
   "source": [
    "## Make the 2017 Heat Wave Plot\n"
   ]
  },
  {
   "cell_type": "code",
   "execution_count": null,
   "id": "8ab44ef7-ecef-486c-a090-7b108920e17e",
   "metadata": {},
   "outputs": [],
   "source": [
    "# Read in the county-level temperature file:\n",
    "temp_df = pd.read_csv((os.path.join(data_input_dir + '2017_08_28_19_UTC_County_Mean_Meteorology.csv')))\n",
    "\n",
    "# Convert the temperatures from Kelvin to Fahrenheit:\n",
    "temp_df['T2'] = (1.8 * (temp_df['T2'] - 273)) + 32\n",
    "       \n",
    "# Merge the temperature data with the county shapefile:\n",
    "heat_df = counties_df.merge(temp_df, on='FIPS', how='left')\n",
    "\n",
    "# Make the plot:\n",
    "fig, ax = plt.subplots(1, 1, figsize=(25, 10))\n",
    "plt.rcParams['font.size'] = 18\n",
    "divider = make_axes_locatable(ax)\n",
    "cax = divider.append_axes(\"right\", size=\"1%\", pad=0.01)\n",
    "heat_df.plot(ax = ax, \n",
    "             cax = cax, \n",
    "             column = 'T2', \n",
    "             cmap = 'RdYlBu_r', \n",
    "             vmin = heat_t_min, \n",
    "             vmax = heat_t_max,\n",
    "             edgecolor = 'grey', \n",
    "             linewidth = 0.5, \n",
    "             legend = True, \n",
    "             legend_kwds = {'label': ('2-m Air Temperature ($^\\circ$F)'), 'orientation': 'vertical'})\n",
    "ax.set_xlim(lon_min, lon_max)\n",
    "ax.set_ylim(lat_min, lat_max)\n",
    "ax.set_title('Temperature on 25-August 2017 at 1900 UTC', fontsize = 24)\n",
    "\n",
    "# Overlay the state boundaries:\n",
    "states_df.plot(ax = ax, facecolor = 'none', edgecolor = 'black', linewidth = 1, zorder = 2)\n",
    "    \n",
    "# Save the figure:\n",
    "plt.savefig(os.path.join(image_output_dir, '20170828_1900_UTC.png'), dpi=300, bbox_inches='tight', facecolor='white')\n"
   ]
  },
  {
   "cell_type": "markdown",
   "id": "42929055-ce97-4f80-abeb-78ebee4fa65d",
   "metadata": {},
   "source": [
    "## Make the 2018 Heat Wave Plot\n"
   ]
  },
  {
   "cell_type": "code",
   "execution_count": null,
   "id": "30dee332-bd97-4080-bad1-9b82570c0ae6",
   "metadata": {},
   "outputs": [],
   "source": [
    "# Read in the county-level temperature file:\n",
    "temp_df = pd.read_csv((os.path.join(data_input_dir + '2018_07_25_19_UTC_County_Mean_Meteorology.csv')))\n",
    "\n",
    "# Convert the temperatures from Kelvin to Fahrenheit:\n",
    "temp_df['T2'] = (1.8 * (temp_df['T2'] - 273)) + 32\n",
    "       \n",
    "# Merge the temperature data with the county shapefile:\n",
    "heat_df = counties_df.merge(temp_df, on='FIPS', how='left')\n",
    "\n",
    "# Make the plot:\n",
    "fig, ax = plt.subplots(1, 1, figsize=(25, 10))\n",
    "plt.rcParams['font.size'] = 18\n",
    "divider = make_axes_locatable(ax)\n",
    "cax = divider.append_axes(\"right\", size=\"1%\", pad=0.01)\n",
    "heat_df.plot(ax = ax, \n",
    "             cax = cax, \n",
    "             column = 'T2', \n",
    "             cmap = 'RdYlBu_r', \n",
    "             vmin = heat_t_min, \n",
    "             vmax = heat_t_max,\n",
    "             edgecolor = 'grey', \n",
    "             linewidth = 0.5, \n",
    "             legend = True, \n",
    "             legend_kwds = {'label': ('2-m Air Temperature ($^\\circ$F)'), 'orientation': 'vertical'})\n",
    "ax.set_xlim(lon_min, lon_max)\n",
    "ax.set_ylim(lat_min, lat_max)\n",
    "ax.set_title('Temperature on 25-July 2018 at 1900 UTC', fontsize = 24)\n",
    "\n",
    "# Overlay the state boundaries:\n",
    "states_df.plot(ax = ax, facecolor = 'none', edgecolor = 'black', linewidth = 1, zorder = 2)\n",
    "    \n",
    "# Save the figure:\n",
    "plt.savefig(os.path.join(image_output_dir, '20180725_1900_UTC.png'), dpi=300, bbox_inches='tight', facecolor='white')\n"
   ]
  },
  {
   "cell_type": "code",
   "execution_count": null,
   "id": "156edb97-6be8-4ca6-ae7a-f7d79fa3d68e",
   "metadata": {},
   "outputs": [],
   "source": []
  }
 ],
 "metadata": {
  "kernelspec": {
   "display_name": "py3.9.15_std",
   "language": "python",
   "name": "py3.9.15_std"
  },
  "language_info": {
   "codemirror_mode": {
    "name": "ipython",
    "version": 3
   },
   "file_extension": ".py",
   "mimetype": "text/x-python",
   "name": "python",
   "nbconvert_exporter": "python",
   "pygments_lexer": "ipython3",
   "version": "3.9.15"
  }
 },
 "nbformat": 4,
 "nbformat_minor": 5
}
