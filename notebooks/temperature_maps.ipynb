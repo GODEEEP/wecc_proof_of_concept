{
 "cells": [
  {
   "cell_type": "markdown",
   "id": "dd40f4f4-5a80-40b7-94b3-aed136daa9d8",
   "metadata": {},
   "source": [
    "# WECC Temperature Maps for Heat Wave Study"
   ]
  },
  {
   "cell_type": "code",
   "execution_count": 1,
   "id": "27e597e9-538f-41d4-afa9-a268b10ab1df",
   "metadata": {},
   "outputs": [],
   "source": [
    "# Start by importing the packages we need:\n",
    "import os\n",
    "import glob\n",
    "\n",
    "import pandas as pd\n",
    "import geopandas as gpd\n",
    "import matplotlib.pyplot as plt\n",
    "\n",
    "from mpl_toolkits.axes_grid1 import make_axes_locatable\n"
   ]
  },
  {
   "cell_type": "markdown",
   "id": "795f6fe5-0769-4298-887e-7c4cffc64a0d",
   "metadata": {},
   "source": [
    "## Set the Directory Structure"
   ]
  },
  {
   "cell_type": "code",
   "execution_count": 2,
   "id": "bd887600-32da-46dc-b411-fa63c75f564f",
   "metadata": {
    "pycharm": {
     "name": "#%%\n"
    }
   },
   "outputs": [],
   "source": [
    "# Identify the data input and output directories:\n",
    "weather_data_input_dir =  '/Users/burl878/Documents/IMMM/Data/TELL/Production_Runs/tell_data/wrf_tell_counties_output/historic_2020_2022/'\n",
    "metadata_input_dir =  '/Users/burl878/Documents/IMMM/Data/Random/ERCOT_Heat_Wave_Cold_Snap_Figure//'\n",
    "data_output_dir = '/Users/burl878/Documents/Code/code_repos/wecc_proof_of_concept/data/'\n",
    "image_output_dir =  '/Users/burl878/Documents/Code/code_repos/wecc_proof_of_concept/plots/'\n"
   ]
  },
  {
   "cell_type": "markdown",
   "id": "57cd3773-85ff-4425-9ee0-b4fc627e0d77",
   "metadata": {},
   "source": [
    "## Set the Plot Constraints"
   ]
  },
  {
   "cell_type": "code",
   "execution_count": 3,
   "id": "84ba3db3-59d6-46cf-9a21-9fa76c0a738a",
   "metadata": {},
   "outputs": [],
   "source": [
    "# Set the year you want to analyze:\n",
    "year_to_process = 2022\n",
    "\n",
    "# Set the lat/lon bounds for the plot:\n",
    "lat_min = 24\n",
    "lat_max = 49.75\n",
    "lon_min = -125.5\n",
    "lon_max = -66.5\n",
    "\n",
    "# Set the minimum and maximum temperatures for the colorbar:\n",
    "heat_t_min = 60\n",
    "heat_t_max = 115\n",
    "\n",
    "# Set the projection/CRS you want to use (e.g., https://en.wikipedia.org/wiki/Spatial_reference_system):\n",
    "projection = \"EPSG:4269\"\n"
   ]
  },
  {
   "cell_type": "markdown",
   "id": "63076e35-efa0-4f8e-a4ef-39c1e716f559",
   "metadata": {},
   "source": [
    "## Read in the Shapefiles\n"
   ]
  },
  {
   "cell_type": "code",
   "execution_count": 4,
   "id": "076660ea-6b1d-4df6-b8a6-57a5dc890526",
   "metadata": {},
   "outputs": [],
   "source": [
    "# Read in the county shapefile and reassign the 'FIPS' variable as integers:\n",
    "counties_df = gpd.read_file(os.path.join(metadata_input_dir, r'County_Shapefiles', r'tl_2020_us_county.shp')).rename(columns={'GEOID': 'FIPS'})\n",
    "counties_df['FIPS'] = counties_df['FIPS'].astype(int)\n",
    "\n",
    "# Read in the state shapefile:\n",
    "states_df = gpd.read_file(os.path.join(metadata_input_dir, r'State_Shapefiles', r'tl_2020_us_state.shp'))\n",
    "\n",
    "# Change the CRS to match the projection you want to use:\n",
    "counties_df = counties_df.to_crs(projection)\n",
    "states_df = states_df.to_crs(projection)\n"
   ]
  },
  {
   "cell_type": "markdown",
   "id": "3011f5a0-2387-42a5-90fa-7158d1c2ebe2",
   "metadata": {},
   "source": [
    "## Process the Maximum Temperature During the Heat Wave\n"
   ]
  },
  {
   "cell_type": "code",
   "execution_count": null,
   "id": "2b2d6a03-125b-4a37-a473-191a3d84e3e1",
   "metadata": {},
   "outputs": [],
   "source": [
    "# Check to see if the processed output file exist and if not then create it:\n",
    "if os.path.isfile((os.path.join(data_output_dir, ('Heat_Wave_T_Max_' + str(year_to_process) + '.csv')))) == False:\n",
    "   if year_to_process == 2017:\n",
    "      start_day = pd.to_datetime('2017-08-26 00:00:00')\n",
    "      end_day = pd.to_datetime('2017-09-04 00:00:00')\n",
    "   if year_to_process == 2018:\n",
    "      start_day = pd.to_datetime('2018-07-22 00:00:00')\n",
    "      end_day = pd.to_datetime('2018-07-28 00:00:00')\n",
    "   if year_to_process == 2020:\n",
    "      start_day = pd.to_datetime('2020-08-14 00:00:00')\n",
    "      end_day = pd.to_datetime('2020-08-20 00:00:00')\n",
    "   if year_to_process == 2022:\n",
    "      start_day = pd.to_datetime('2022-09-03 00:00:00')\n",
    "      end_day = pd.to_datetime('2022-09-11 00:00:00')\n",
    "   \n",
    "   # Create a list of all county meteorology files in the input directory:\n",
    "   list_of_files = sorted(glob.glob(os.path.join(weather_data_input_dir, str(year_to_process), '*.csv')))\n",
    "   \n",
    "   # Aggregate the county level data across all file:\n",
    "   county_df = pd.concat((pd.read_csv(f).assign(Time_UTC=os.path.basename(f)) for f in list_of_files))\n",
    "   county_df['Time_UTC'] = pd.to_datetime(county_df.Time_UTC, exact=False, format='%Y_%m_%d_%H')\n",
    "    \n",
    "   # Subset to just the files in the time window:\n",
    "   county_df = county_df.loc[(county_df['Time_UTC'] >= start_day) & (county_df['Time_UTC'] <= end_day)]\n",
    "    \n",
    "   # Find the max T2 value by county:\n",
    "   temp_df = pd.DataFrame(county_df.groupby('FIPS')['T2'].max())\n",
    "    \n",
    "   # Convert the temperatures from Kelvin to Fahrenheit:\n",
    "   temp_df['T2'] = (1.8 * (temp_df['T2'] - 273)) + 32\n",
    "   temp_df['T2'] = temp_df['T2'].round(2)\n",
    "   \n",
    "   # Write out the dataframe to a .csv file:\n",
    "   temp_df.to_csv((os.path.join(data_output_dir, ('Heat_Wave_T_Max_' + str(year_to_process) + '.csv'))), sep=',', index=True)\n",
    "   \n",
    "else:\n",
    "   # Read in the already processed output file:\n",
    "   temp_df = pd.read_csv((os.path.join(data_output_dir, ('Heat_Wave_T_Max_' + str(year_to_process) + '.csv'))))\n"
   ]
  },
  {
   "cell_type": "code",
   "execution_count": null,
   "id": "7e6d479f-ea32-4951-abbc-1f65bb15a589",
   "metadata": {},
   "outputs": [],
   "source": [
    "# Merge the temperature and shapefiles dataframes together:\n",
    "heat_df = counties_df.merge(temp_df, on='FIPS', how='left')\n"
   ]
  },
  {
   "cell_type": "markdown",
   "id": "afedcfd4-7a50-42aa-8479-8474ecbb85cf",
   "metadata": {},
   "source": [
    "## Make the Heat Wave Plot\n"
   ]
  },
  {
   "cell_type": "code",
   "execution_count": null,
   "id": "8ab44ef7-ecef-486c-a090-7b108920e17e",
   "metadata": {},
   "outputs": [],
   "source": [
    "# Make the plot:\n",
    "fig, ax = plt.subplots(1, 1, figsize=(25, 10))\n",
    "plt.rcParams['font.size'] = 18\n",
    "divider = make_axes_locatable(ax)\n",
    "cax = divider.append_axes(\"right\", size=\"1%\", pad=0.01)\n",
    "heat_df.plot(ax = ax, \n",
    "             cax = cax, \n",
    "             column = 'T2', \n",
    "             cmap = 'RdYlBu_r', \n",
    "             vmin = heat_t_min, \n",
    "             vmax = heat_t_max,\n",
    "             edgecolor = 'grey', \n",
    "             linewidth = 0.5, \n",
    "             legend = True, \n",
    "             legend_kwds = {'label': ('2-m Air Temperature ($^\\circ$F)'), 'orientation': 'vertical'})\n",
    "ax.set_xlim(lon_min, lon_max)\n",
    "ax.set_ylim(lat_min, lat_max)\n",
    "if year_to_process == 2017:\n",
    "   ax.set_title(('Maximum Heat Wave Temperature: 26-Aug to 3-Sep 2017'), fontsize = 24)\n",
    "if year_to_process == 2018:\n",
    "   ax.set_title(('Maximum Heat Wave Temperature: 22-Jul to 28-Jul 2018'), fontsize = 24)\n",
    "if year_to_process == 2020:\n",
    "   ax.set_title(('Maximum Heat Wave Temperature: 14-Aug to 19-Aug 2020'), fontsize = 24)\n",
    "if year_to_process == 2022:\n",
    "   ax.set_title(('Maximum Heat Wave Temperature: 3-Sep to 11-Sep 2022'), fontsize = 24)\n",
    "\n",
    "# Overlay the state boundaries:\n",
    "states_df.plot(ax = ax, facecolor = 'none', edgecolor = 'black', linewidth = 1, zorder = 2)\n",
    "    \n",
    "# Save the figure:\n",
    "plt.savefig(os.path.join(image_output_dir, (str(year_to_process) + '_Heat_Wave.png')), dpi=300, bbox_inches='tight', facecolor='white')\n"
   ]
  },
  {
   "cell_type": "code",
   "execution_count": null,
   "id": "156edb97-6be8-4ca6-ae7a-f7d79fa3d68e",
   "metadata": {},
   "outputs": [],
   "source": []
  }
 ],
 "metadata": {
  "kernelspec": {
   "display_name": "py3.9.15_std",
   "language": "python",
   "name": "py3.9.15_std"
  },
  "language_info": {
   "codemirror_mode": {
    "name": "ipython",
    "version": 3
   },
   "file_extension": ".py",
   "mimetype": "text/x-python",
   "name": "python",
   "nbconvert_exporter": "python",
   "pygments_lexer": "ipython3",
   "version": "3.9.15"
  }
 },
 "nbformat": 4,
 "nbformat_minor": 5
}
